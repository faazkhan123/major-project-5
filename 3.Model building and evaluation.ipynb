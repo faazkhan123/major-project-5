{
 "cells": [
  {
   "cell_type": "markdown",
   "id": "6dfd65a8",
   "metadata": {},
   "source": [
    "# 1.IMPORT LIBRARIES"
   ]
  },
  {
   "cell_type": "code",
   "execution_count": 8,
   "id": "fd958983",
   "metadata": {},
   "outputs": [],
   "source": [
    "import pandas as pd \n",
    "from sklearn.model_selection import train_test_split\n",
    "from sklearn.neighbors import KNeighborsClassifier\n",
    "from sklearn.ensemble import RandomForestClassifier, GradientBoostingClassifier\n",
    "from sklearn.metrics import accuracy_score\n",
    "from sklearn.metrics import classification_report\n",
    "from sklearn.preprocessing import StandardScaler\n",
    "import matplotlib.pyplot as plt\n",
    "import seaborn as sns\n"
   ]
  },
  {
   "cell_type": "markdown",
   "id": "49af613b",
   "metadata": {},
   "source": [
    "# 2.LOAD DATASET"
   ]
  },
  {
   "cell_type": "code",
   "execution_count": 9,
   "id": "bcd2845c",
   "metadata": {},
   "outputs": [],
   "source": [
    "df=pd.read_csv(\"airline_passenger_satisfaction_model_build.csv\")"
   ]
  },
  {
   "cell_type": "code",
   "execution_count": 10,
   "id": "5cb62f69",
   "metadata": {},
   "outputs": [
    {
     "data": {
      "text/html": [
       "<div>\n",
       "<style scoped>\n",
       "    .dataframe tbody tr th:only-of-type {\n",
       "        vertical-align: middle;\n",
       "    }\n",
       "\n",
       "    .dataframe tbody tr th {\n",
       "        vertical-align: top;\n",
       "    }\n",
       "\n",
       "    .dataframe thead th {\n",
       "        text-align: right;\n",
       "    }\n",
       "</style>\n",
       "<table border=\"1\" class=\"dataframe\">\n",
       "  <thead>\n",
       "    <tr style=\"text-align: right;\">\n",
       "      <th></th>\n",
       "      <th>ID</th>\n",
       "      <th>Age</th>\n",
       "      <th>Flight Distance</th>\n",
       "      <th>Departure Delay</th>\n",
       "      <th>Arrival Delay</th>\n",
       "      <th>Departure and Arrival Time Convenience</th>\n",
       "      <th>Ease of Online Booking</th>\n",
       "      <th>Check-in Service</th>\n",
       "      <th>Online Boarding</th>\n",
       "      <th>Gate Location</th>\n",
       "      <th>...</th>\n",
       "      <th>Gender_Female</th>\n",
       "      <th>Gender_Male</th>\n",
       "      <th>Customer Type_First-time</th>\n",
       "      <th>Customer Type_Returning</th>\n",
       "      <th>Type of Travel_Business</th>\n",
       "      <th>Type of Travel_Personal</th>\n",
       "      <th>Class_Business</th>\n",
       "      <th>Class_Economy</th>\n",
       "      <th>Class_Economy Plus</th>\n",
       "      <th>Satisfaction</th>\n",
       "    </tr>\n",
       "  </thead>\n",
       "  <tbody>\n",
       "    <tr>\n",
       "      <th>0</th>\n",
       "      <td>1</td>\n",
       "      <td>48</td>\n",
       "      <td>821</td>\n",
       "      <td>2</td>\n",
       "      <td>5.0</td>\n",
       "      <td>3</td>\n",
       "      <td>3</td>\n",
       "      <td>4</td>\n",
       "      <td>3</td>\n",
       "      <td>3</td>\n",
       "      <td>...</td>\n",
       "      <td>0</td>\n",
       "      <td>1</td>\n",
       "      <td>1</td>\n",
       "      <td>0</td>\n",
       "      <td>1</td>\n",
       "      <td>0</td>\n",
       "      <td>1</td>\n",
       "      <td>0</td>\n",
       "      <td>0</td>\n",
       "      <td>1</td>\n",
       "    </tr>\n",
       "    <tr>\n",
       "      <th>1</th>\n",
       "      <td>2</td>\n",
       "      <td>35</td>\n",
       "      <td>821</td>\n",
       "      <td>26</td>\n",
       "      <td>39.0</td>\n",
       "      <td>2</td>\n",
       "      <td>2</td>\n",
       "      <td>3</td>\n",
       "      <td>5</td>\n",
       "      <td>2</td>\n",
       "      <td>...</td>\n",
       "      <td>1</td>\n",
       "      <td>0</td>\n",
       "      <td>0</td>\n",
       "      <td>1</td>\n",
       "      <td>1</td>\n",
       "      <td>0</td>\n",
       "      <td>1</td>\n",
       "      <td>0</td>\n",
       "      <td>0</td>\n",
       "      <td>0</td>\n",
       "    </tr>\n",
       "    <tr>\n",
       "      <th>2</th>\n",
       "      <td>3</td>\n",
       "      <td>41</td>\n",
       "      <td>853</td>\n",
       "      <td>0</td>\n",
       "      <td>0.0</td>\n",
       "      <td>4</td>\n",
       "      <td>4</td>\n",
       "      <td>4</td>\n",
       "      <td>5</td>\n",
       "      <td>4</td>\n",
       "      <td>...</td>\n",
       "      <td>0</td>\n",
       "      <td>1</td>\n",
       "      <td>0</td>\n",
       "      <td>1</td>\n",
       "      <td>1</td>\n",
       "      <td>0</td>\n",
       "      <td>1</td>\n",
       "      <td>0</td>\n",
       "      <td>0</td>\n",
       "      <td>0</td>\n",
       "    </tr>\n",
       "    <tr>\n",
       "      <th>3</th>\n",
       "      <td>4</td>\n",
       "      <td>50</td>\n",
       "      <td>1905</td>\n",
       "      <td>0</td>\n",
       "      <td>0.0</td>\n",
       "      <td>2</td>\n",
       "      <td>2</td>\n",
       "      <td>3</td>\n",
       "      <td>4</td>\n",
       "      <td>2</td>\n",
       "      <td>...</td>\n",
       "      <td>0</td>\n",
       "      <td>1</td>\n",
       "      <td>0</td>\n",
       "      <td>1</td>\n",
       "      <td>1</td>\n",
       "      <td>0</td>\n",
       "      <td>1</td>\n",
       "      <td>0</td>\n",
       "      <td>0</td>\n",
       "      <td>0</td>\n",
       "    </tr>\n",
       "    <tr>\n",
       "      <th>4</th>\n",
       "      <td>5</td>\n",
       "      <td>49</td>\n",
       "      <td>3470</td>\n",
       "      <td>0</td>\n",
       "      <td>1.0</td>\n",
       "      <td>3</td>\n",
       "      <td>3</td>\n",
       "      <td>3</td>\n",
       "      <td>5</td>\n",
       "      <td>3</td>\n",
       "      <td>...</td>\n",
       "      <td>1</td>\n",
       "      <td>0</td>\n",
       "      <td>0</td>\n",
       "      <td>1</td>\n",
       "      <td>1</td>\n",
       "      <td>0</td>\n",
       "      <td>1</td>\n",
       "      <td>0</td>\n",
       "      <td>0</td>\n",
       "      <td>0</td>\n",
       "    </tr>\n",
       "  </tbody>\n",
       "</table>\n",
       "<p>5 rows × 29 columns</p>\n",
       "</div>"
      ],
      "text/plain": [
       "   ID  Age  Flight Distance  Departure Delay  Arrival Delay  \\\n",
       "0   1   48              821                2            5.0   \n",
       "1   2   35              821               26           39.0   \n",
       "2   3   41              853                0            0.0   \n",
       "3   4   50             1905                0            0.0   \n",
       "4   5   49             3470                0            1.0   \n",
       "\n",
       "   Departure and Arrival Time Convenience  Ease of Online Booking  \\\n",
       "0                                       3                       3   \n",
       "1                                       2                       2   \n",
       "2                                       4                       4   \n",
       "3                                       2                       2   \n",
       "4                                       3                       3   \n",
       "\n",
       "   Check-in Service  Online Boarding  Gate Location  ...  Gender_Female  \\\n",
       "0                 4                3              3  ...              0   \n",
       "1                 3                5              2  ...              1   \n",
       "2                 4                5              4  ...              0   \n",
       "3                 3                4              2  ...              0   \n",
       "4                 3                5              3  ...              1   \n",
       "\n",
       "   Gender_Male  Customer Type_First-time  Customer Type_Returning  \\\n",
       "0            1                         1                        0   \n",
       "1            0                         0                        1   \n",
       "2            1                         0                        1   \n",
       "3            1                         0                        1   \n",
       "4            0                         0                        1   \n",
       "\n",
       "   Type of Travel_Business  Type of Travel_Personal  Class_Business  \\\n",
       "0                        1                        0               1   \n",
       "1                        1                        0               1   \n",
       "2                        1                        0               1   \n",
       "3                        1                        0               1   \n",
       "4                        1                        0               1   \n",
       "\n",
       "   Class_Economy  Class_Economy Plus  Satisfaction  \n",
       "0              0                   0             1  \n",
       "1              0                   0             0  \n",
       "2              0                   0             0  \n",
       "3              0                   0             0  \n",
       "4              0                   0             0  \n",
       "\n",
       "[5 rows x 29 columns]"
      ]
     },
     "execution_count": 10,
     "metadata": {},
     "output_type": "execute_result"
    }
   ],
   "source": [
    "df.head()"
   ]
  },
  {
   "cell_type": "code",
   "execution_count": 14,
   "id": "022357dc",
   "metadata": {},
   "outputs": [
    {
     "data": {
      "text/plain": [
       "(129487, 29)"
      ]
     },
     "execution_count": 14,
     "metadata": {},
     "output_type": "execute_result"
    }
   ],
   "source": [
    "df.shape"
   ]
  },
  {
   "cell_type": "code",
   "execution_count": 11,
   "id": "ee74dd89",
   "metadata": {},
   "outputs": [],
   "source": [
    "X=df.drop(['ID','Satisfaction'],axis=1)  #Remove ID because we will not use the feature \n",
    "y=df['Satisfaction']"
   ]
  },
  {
   "cell_type": "markdown",
   "id": "62d75a35",
   "metadata": {},
   "source": [
    "# 3.SPLITTING DATASET"
   ]
  },
  {
   "cell_type": "code",
   "execution_count": 13,
   "id": "1a7df215",
   "metadata": {},
   "outputs": [
    {
     "name": "stdout",
     "output_type": "stream",
     "text": [
      "Shape of training set  (103589, 27)\n",
      "Shape of test set  (25898, 27)\n"
     ]
    }
   ],
   "source": [
    "X_train,X_test,y_train,y_test=train_test_split(X,y,test_size=0.20,random_state=1)\n",
    "print('Shape of training set ',X_train.shape)\n",
    "print('Shape of test set ',X_test.shape)"
   ]
  },
  {
   "cell_type": "markdown",
   "id": "e3963576",
   "metadata": {},
   "source": [
    "# 4.MODEL AND EVALUATION"
   ]
  },
  {
   "cell_type": "markdown",
   "id": "3caee4f0",
   "metadata": {},
   "source": [
    "1.KNN"
   ]
  },
  {
   "cell_type": "code",
   "execution_count": 18,
   "id": "5265561d",
   "metadata": {},
   "outputs": [
    {
     "name": "stderr",
     "output_type": "stream",
     "text": [
      "C:\\ProgramData\\Anaconda3\\lib\\site-packages\\sklearn\\neighbors\\_classification.py:211: FutureWarning: Unlike other reduction functions (e.g. `skew`, `kurtosis`), the default behavior of `mode` typically preserves the axis it acts along. In SciPy 1.11.0, this behavior will change: the default value of `keepdims` will become False, the `axis` over which the statistic is taken will be eliminated, and the value None will no longer be accepted. Set `keepdims` to True or False to avoid this warning.\n",
      "  mode, _ = stats.mode(_y[neigh_ind, k], axis=1)\n"
     ]
    },
    {
     "name": "stdout",
     "output_type": "stream",
     "text": [
      "              precision    recall  f1-score   support\n",
      "\n",
      "           0       0.73      0.68      0.70     11153\n",
      "           1       0.77      0.81      0.79     14745\n",
      "\n",
      "    accuracy                           0.75     25898\n",
      "   macro avg       0.75      0.74      0.75     25898\n",
      "weighted avg       0.75      0.75      0.75     25898\n",
      "\n"
     ]
    }
   ],
   "source": [
    "knn_model=KNeighborsClassifier(n_neighbors=5)\n",
    "knn_model.fit(X_train,y_train)\n",
    "y_pred=knn_model.predict(X_test)\n",
    "\n",
    "##print classification report\n",
    "print(classification_report(y_test,y_pred,labels=[0,1]))"
   ]
  },
  {
   "cell_type": "markdown",
   "id": "2162955a",
   "metadata": {},
   "source": [
    "2.RANDOM FOREST CLASSIFIER\n"
   ]
  },
  {
   "cell_type": "code",
   "execution_count": 20,
   "id": "2d057d6d",
   "metadata": {},
   "outputs": [
    {
     "name": "stdout",
     "output_type": "stream",
     "text": [
      "              precision    recall  f1-score   support\n",
      "\n",
      "           0       0.97      0.94      0.96     11153\n",
      "           1       0.96      0.98      0.97     14745\n",
      "\n",
      "    accuracy                           0.96     25898\n",
      "   macro avg       0.96      0.96      0.96     25898\n",
      "weighted avg       0.96      0.96      0.96     25898\n",
      "\n"
     ]
    }
   ],
   "source": [
    "rf_model=RandomForestClassifier(n_estimators=100 ,random_state=42)\n",
    "rf_model.fit(X_train,y_train)\n",
    "y_pred=rf_model.predict(X_test)\n",
    "\n",
    "##print classification report\n",
    "print(classification_report(y_test,y_pred,labels=[0,1]))"
   ]
  },
  {
   "cell_type": "markdown",
   "id": "84f377b4",
   "metadata": {},
   "source": [
    "3.GRADIENT BOOSTING CLASSIFIER"
   ]
  },
  {
   "cell_type": "code",
   "execution_count": 21,
   "id": "fe7a98b5",
   "metadata": {},
   "outputs": [
    {
     "name": "stdout",
     "output_type": "stream",
     "text": [
      "              precision    recall  f1-score   support\n",
      "\n",
      "           0       0.94      0.92      0.93     11153\n",
      "           1       0.94      0.96      0.95     14745\n",
      "\n",
      "    accuracy                           0.94     25898\n",
      "   macro avg       0.94      0.94      0.94     25898\n",
      "weighted avg       0.94      0.94      0.94     25898\n",
      "\n"
     ]
    }
   ],
   "source": [
    "gb_model=GradientBoostingClassifier(n_estimators=100, random_state=42)\n",
    "gb_model.fit(X_train,y_train)\n",
    "y_pred=gb_model.predict(X_test)\n",
    "\n",
    "##print classification report\n",
    "print(classification_report(y_test,y_pred,labels=[0,1]))\n"
   ]
  },
  {
   "cell_type": "markdown",
   "id": "59da4fb8",
   "metadata": {},
   "source": [
    "# 5.LETS TRY TO IMPROVE PERFORMANCE OF KNNUSING STANDARD SCALER"
   ]
  },
  {
   "cell_type": "code",
   "execution_count": 22,
   "id": "f36b6c60",
   "metadata": {},
   "outputs": [],
   "source": [
    "#Scale the features\n",
    "scaler=StandardScaler()\n",
    "X_train_scaled=scaler.fit_transform(X_train)\n",
    "X_test_scaled=scaler.transform(X_test)"
   ]
  },
  {
   "cell_type": "code",
   "execution_count": 23,
   "id": "bc9bf084",
   "metadata": {},
   "outputs": [
    {
     "name": "stderr",
     "output_type": "stream",
     "text": [
      "C:\\ProgramData\\Anaconda3\\lib\\site-packages\\sklearn\\neighbors\\_classification.py:211: FutureWarning: Unlike other reduction functions (e.g. `skew`, `kurtosis`), the default behavior of `mode` typically preserves the axis it acts along. In SciPy 1.11.0, this behavior will change: the default value of `keepdims` will become False, the `axis` over which the statistic is taken will be eliminated, and the value None will no longer be accepted. Set `keepdims` to True or False to avoid this warning.\n",
      "  mode, _ = stats.mode(_y[neigh_ind, k], axis=1)\n"
     ]
    },
    {
     "name": "stdout",
     "output_type": "stream",
     "text": [
      "              precision    recall  f1-score   support\n",
      "\n",
      "           0       0.95      0.88      0.91     11153\n",
      "           1       0.91      0.96      0.94     14745\n",
      "\n",
      "    accuracy                           0.93     25898\n",
      "   macro avg       0.93      0.92      0.93     25898\n",
      "weighted avg       0.93      0.93      0.93     25898\n",
      "\n"
     ]
    }
   ],
   "source": [
    "knn_scaled_model=KNeighborsClassifier(n_neighbors=5)\n",
    "knn_scaled_model.fit(X_train_scaled,y_train)\n",
    "y_pred=knn_scaled_model.predict(X_test_scaled)\n",
    "\n",
    "##print classification report\n",
    "print(classification_report(y_test,y_pred,labels=[0,1]))"
   ]
  },
  {
   "cell_type": "markdown",
   "id": "b93c6a37",
   "metadata": {},
   "source": [
    "OVERALL,RANDOM FOREST HAS THE BEST PERFORMANCE FOR BOTH CLASSES BASED ON THE WEIGHTED AVERAGE F-1 SCORE,WITH A VALUE OF 0.96"
   ]
  },
  {
   "cell_type": "markdown",
   "id": "12d0941d",
   "metadata": {},
   "source": [
    "# 6.CHECK FEATURE IMPORTANCE"
   ]
  },
  {
   "cell_type": "code",
   "execution_count": 34,
   "id": "6e541e30",
   "metadata": {},
   "outputs": [
    {
     "data": {
      "text/plain": [
       "<AxesSubplot:xlabel='importance', ylabel='index'>"
      ]
     },
     "execution_count": 34,
     "metadata": {},
     "output_type": "execute_result"
    },
    {
     "data": {
      "image/png": "[encoded data removed]",
      "text/plain": [
       "<Figure size 720x1080 with 1 Axes>"
      ]
     },
     "metadata": {
      "needs_background": "light"
     },
     "output_type": "display_data"
    }
   ],
   "source": [
    "rf=RandomForestClassifier(n_estimators=100, random_state=42)\n",
    "rf.fit(X_train,y_train)\n",
    "feature_importances=pd.DataFrame(rf.feature_importances_,index=X.columns,columns=['importance']).sort_values('importance',ascending=False)\n",
    "\n",
    "fig,ax=plt.subplots(1,1,figsize=(10,15))\n",
    "sns.barplot(x='importance',y='index',color='#800000', data=feature_importances.reset_index())"
   ]
  },
  {
   "cell_type": "code",
   "execution_count": null,
   "id": "c722b742",
   "metadata": {},
   "outputs": [],
   "source": []
  }
 ],
 "metadata": {
  "kernelspec": {
   "display_name": "Python 3",
   "language": "python",
   "name": "python3"
  },
  "language_info": {
   "codemirror_mode": {
    "name": "ipython",
    "version": 3
   },
   "file_extension": ".py",
   "mimetype": "text/x-python",
   "name": "python",
   "nbconvert_exporter": "python",
   "pygments_lexer": "ipython3",
   "version": "3.8.8"
  }
 },
 "nbformat": 4,
 "nbformat_minor": 5
}
